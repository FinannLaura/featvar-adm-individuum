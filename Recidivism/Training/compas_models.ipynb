{
 "cells": [
  {
   "cell_type": "markdown",
   "metadata": {},
   "source": [
    "## Training and Evaluation"
   ]
  },
  {
   "cell_type": "markdown",
   "metadata": {},
   "source": [
    "### Import libraries"
   ]
  },
  {
   "cell_type": "code",
   "execution_count": 3,
   "metadata": {},
   "outputs": [],
   "source": [
    "import numpy as np\n",
    "import pandas as pd\n",
    "import matplotlib.pyplot as plt\n",
    "from sklearn.linear_model import LogisticRegression\n",
    "from sklearn.ensemble import RandomForestClassifier\n",
    "from sklearn.model_selection import train_test_split\n",
    "from sklearn.metrics import accuracy_score"
   ]
  },
  {
   "cell_type": "markdown",
   "metadata": {},
   "source": [
    "### Load Data"
   ]
  },
  {
   "cell_type": "code",
   "execution_count": 4,
   "metadata": {},
   "outputs": [],
   "source": [
    "df = pd.read_csv(\"compas-scores-two-years.csv\")"
   ]
  },
  {
   "cell_type": "markdown",
   "metadata": {},
   "source": [
    "### Data cleaning"
   ]
  },
  {
   "cell_type": "code",
   "execution_count": 5,
   "metadata": {},
   "outputs": [],
   "source": [
    "df = df[(df[\"days_b_screening_arrest\"] <= 30) \n",
    "        & (df[\"days_b_screening_arrest\"] >= -30)\n",
    "        & (df[\"is_recid\"] != -1)\n",
    "        & (df[\"c_charge_degree\"] != 'O')\n",
    "        & (df[\"score_text\"] != 'N/A')].reset_index(drop=True)"
   ]
  },
  {
   "cell_type": "markdown",
   "metadata": {},
   "source": [
    "### Feature selection"
   ]
  },
  {
   "cell_type": "code",
   "execution_count": 12,
   "metadata": {},
   "outputs": [],
   "source": [
    "# Two features \n",
    "two_features = df[[\"age\", \"priors_count\"]]\n",
    "\n",
    "# Seven features\n",
    "seven_features = df[[\"sex\", \"age\", \"c_charge_desc\", \"c_charge_degree\", \"juv_misd_count\", \"juv_fel_count\", \"priors_count\"]]\n",
    "\n",
    "# Columns to drop to get ten features\n",
    "unclear_features = ['start', 'end', 'event', 'two_year_recid', 'violent_recid', 'in_custody', 'out_custody',\n",
    "                    'vr_charge_degree', 'vr_charge_desc', 'r_charge_degree', 'r_charge_desc']\n",
    "duplicate_features = ['decile_score.1', 'priors_count.1', 'screening_date', 'v_screening_date']\n",
    "compas_output_scores = ['decile_score', 'v_decile_score', 'score_text', 'v_score_text']\n",
    "target_related_features = ['is_violent_recid']\n",
    "temporal_attributes = ['compas_screening_date', 'days_b_screening_arrest', 'c_jail_in', 'c_jail_out', 'c_case_number',\n",
    "                       'c_offense_date', 'c_arrest_date', 'c_days_from_compas', 'r_days_from_arrest', 'r_offense_date',\n",
    "                       'r_jail_in', 'r_jail_out', 'vr_offense_date']\n",
    "identifying_features = ['id', 'name', 'first', 'last', 'dob', 'vr_case_number']\n",
    "unclear_additional_features = ['type_of_assessment', 'v_type_of_assessment', 'r_case_number']\n",
    "target_variable = ['is_recid']\n",
    "\n",
    "# Combine all columns to drop into a single list\n",
    "columns_to_drop = (unclear_features + duplicate_features + compas_output_scores + target_related_features +\n",
    "                   temporal_attributes + identifying_features + unclear_additional_features + target_variable)\n",
    "\n",
    "# Ten features\n",
    "ten_features = df.drop(columns_to_drop, axis=1)\n"
   ]
  },
  {
   "cell_type": "markdown",
   "metadata": {},
   "source": [
    "### One-hot encoding"
   ]
  },
  {
   "cell_type": "code",
   "execution_count": 13,
   "metadata": {},
   "outputs": [],
   "source": [
    "#  One-hot encoding for seven features\n",
    "seven_features = pd.get_dummies(seven_features, columns=[\"sex\", \"c_charge_desc\", \"c_charge_degree\"])\n",
    "\n",
    "# One-hot encoding for ten features\n",
    "ten_features = pd.get_dummies(ten_features, columns=[\"race\", \"sex\", \"age_cat\",\"race\",\"c_charge_desc\", \"c_charge_degree\"])"
   ]
  },
  {
   "cell_type": "markdown",
   "metadata": {},
   "source": [
    "### Train and evaluate"
   ]
  },
  {
   "cell_type": "code",
   "execution_count": 14,
   "metadata": {},
   "outputs": [],
   "source": [
    "# Parameters for the model\n",
    "test_size = 0.2\n",
    "num_iterations = 1\n",
    "max_iter = 1000\n",
    "\n",
    "# Function to train and evaluate the model\n",
    "def train_and_evaluate(features, target, id_column, num_iterations, test_size, max_iter, prefix, model_type='logistic'):\n",
    "    performance_metrics = []\n",
    "    all_results = {f\"{prefix}M{i}\": {} for i in range(num_iterations)}\n",
    "\n",
    "    # Create a new DataFrame with \"ID\" as the first header and \"M1\", \"M2\", ..., \"M1000\" as the rest of the headers\n",
    "    new_columns = ['ID'] + [f\"{prefix}M{i}\" for i in range(num_iterations)]\n",
    "    new_df = pd.DataFrame(columns=new_columns)\n",
    "    new_df['ID'] = id_column.tolist()\n",
    "\n",
    "    # Fill each column with dummy values, but do this for all columns except the first one\n",
    "    dummy_values = ['-'] * (new_df.shape[0])\n",
    "    for column in new_columns[1:]:\n",
    "        new_df[column] = dummy_values\n",
    "\n",
    "    # Check model type\n",
    "    if model_type not in ['logistic', 'random_forest']:\n",
    "        raise ValueError(\"Unsupported model type. Choose 'logistic' or 'random_forest'.\")\n",
    "\n",
    "    # n random 80/20 training/testing splits\n",
    "    for i in range(num_iterations):\n",
    "        X_train, X_test, y_train, y_test = train_test_split(features, target, test_size=test_size, random_state=i)\n",
    "        \n",
    "        if model_type == 'logistic':\n",
    "            # Train the Logistic Regression model\n",
    "            model = LogisticRegression(max_iter=max_iter)\n",
    "        elif model_type == 'random_forest':\n",
    "            # Train the Random Forest model\n",
    "            model = RandomForestClassifier(n_estimators=100, random_state=i)\n",
    "        \n",
    "        model.fit(X_train, y_train)\n",
    "\n",
    "        # Predict probabilities on the test set\n",
    "        probabilities = model.predict_proba(X_test)[:, 1]  # Probability of class 1 (recidivism)\n",
    "        print(f\"Probabilities: {i} + {probabilities}\")\n",
    "        y_pred = model.predict(X_test)\n",
    "        accuracy = accuracy_score(y_test, y_pred)\n",
    "        performance_metrics.append(accuracy)\n",
    "\n",
    "        # Store the prediction results with only 2 decimal places\n",
    "        results = dict(zip(id_column[X_test.index], probabilities.round(2)))\n",
    "        all_results[f\"{prefix}M{i}\"].update(results)\n",
    "\n",
    "    # Replace dummy values with predictions where predictions exist for the corresponding test IDs\n",
    "    for i in range(num_iterations):\n",
    "        col_name = f\"{prefix}M{i}\"\n",
    "        new_df[col_name] = new_df['ID'].map(all_results[col_name]).fillna('-')\n",
    "\n",
    "    # Save the DataFrame to a CSV file \n",
    "    new_df.to_csv(f\"predictions_{prefix}.csv\", index=False)\n",
    "\n",
    "    # Calculate the mean and standard deviation of the performance metrics\n",
    "    mean_accuracy = np.mean(performance_metrics)\n",
    "    std_accuracy = np.std(performance_metrics)\n",
    "\n",
    "    # Save the mean and standard deviation of the performance metrics in a text file if it is not already there\n",
    "    with open(f\"performance_metrics.txt\", \"a\") as f:\n",
    "        f.write(f\"Mean Accuracy ({prefix}): {mean_accuracy:.4f}\\n\")\n",
    "        f.write(f\"Standard Deviation of Accuracy ({prefix}): {std_accuracy:.4f}\\n\")\n",
    "\n",
    "    print(f\"Mean Accuracy ({prefix}): {mean_accuracy:.4f}\")\n",
    "    print(f\"Standard Deviation of Accuracy ({prefix}): {std_accuracy:.4f}\")\n"
   ]
  },
  {
   "cell_type": "code",
   "execution_count": 20,
   "metadata": {},
   "outputs": [],
   "source": [
    "#train_and_evaluate(two_features, df['is_recid'], df['id'], num_iterations, test_size, max_iter, \"2L\", model_type='logistic')\n",
    "#train_and_evaluate(seven_features, df['is_recid'], df['id'], num_iterations, test_size, max_iter, \"7L\", model_type='logistic')\n",
    "#train_and_evaluate(ten_features, df['is_recid'], df['id'], num_iterations, test_size, max_iter, \"10L\", model_type='logistic')\n",
    "\n",
    "# Train random forest model with two, seven, and ten features for all, black, and white\n",
    "#train_and_evaluate(two_features, df['is_recid'], df['id'], num_iterations, test_size, max_iter, \"2R\", model_type='random_forest')\n",
    "#train_and_evaluate(seven_features, df['is_recid'], df['id'], num_iterations, test_size, max_iter, \"8R\", model_type='random_forest')\n",
    "#train_and_evaluate(ten_features, df['is_recid'], df['id'], num_iterations, test_size, max_iter, \"10R\", model_type='random_forest')\n"
   ]
  }
 ],
 "metadata": {
  "kernelspec": {
   "display_name": "Masterarbeit",
   "language": "python",
   "name": "r_env"
  },
  "language_info": {
   "codemirror_mode": {
    "name": "ipython",
    "version": 3
   },
   "file_extension": ".py",
   "mimetype": "text/x-python",
   "name": "python",
   "nbconvert_exporter": "python",
   "pygments_lexer": "ipython3",
   "version": "3.12.1"
  }
 },
 "nbformat": 4,
 "nbformat_minor": 2
}
