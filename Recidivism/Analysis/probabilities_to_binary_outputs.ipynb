{
 "cells": [
  {
   "cell_type": "markdown",
   "metadata": {},
   "source": [
    "# Probability to Binary outputs"
   ]
  },
  {
   "cell_type": "markdown",
   "metadata": {},
   "source": [
    "### Import libraries"
   ]
  },
  {
   "cell_type": "code",
   "execution_count": 9,
   "metadata": {},
   "outputs": [],
   "source": [
    "import pandas as pd\n",
    "import numpy as np\n",
    "import matplotlib.pyplot as plt"
   ]
  },
  {
   "cell_type": "markdown",
   "metadata": {},
   "source": [
    "### Load CSV files"
   ]
  },
  {
   "cell_type": "code",
   "execution_count": 6,
   "metadata": {},
   "outputs": [],
   "source": [
    "# Logistic Regression Models\n",
    "df_2L = pd.read_csv('predictions_2L.csv')\n",
    "df_7L = pd.read_csv('predictions_7L.csv')\n",
    "df_10L = pd.read_csv('predictions_10L.csv')\n",
    "\n",
    "# Random Forest Models\n",
    "df_2R = pd.read_csv('predictions_2R.csv')\n",
    "df_7R = pd.read_csv('predictions_7R.csv')\n",
    "df_10R = pd.read_csv('predictions_10R.csv')"
   ]
  },
  {
   "cell_type": "markdown",
   "metadata": {},
   "source": [
    "### Computation of Binary outputs"
   ]
  },
  {
   "cell_type": "code",
   "execution_count": 10,
   "metadata": {},
   "outputs": [],
   "source": [
    "# Function to convert values to low (0) or high (1) based on a quantile level\n",
    "def convert_values_to_low_high(df, prefix1, prefix2, quantile_level=0.7):\n",
    "  \n",
    "    # Function to check if a value is numeric \n",
    "    def is_number(value):\n",
    "        try:\n",
    "            float(value)\n",
    "            return True\n",
    "        except ValueError:\n",
    "            return False\n",
    "\n",
    "    # Function to convert values to 0 (low) or 1 (high) based on the threshold value\n",
    "    def convert_to_low_high(x, threshold):\n",
    "        try:\n",
    "            return 0 if float(x) <= threshold else 1\n",
    "        except ValueError:\n",
    "            return x  # Return the original value if it cannot be converted to a number\n",
    "\n",
    "    # Convert data to a numpy array and exclude the first column\n",
    "    data_array = np.array(df, dtype=object)[:, 1:]\n",
    "\n",
    "    # Remove all non-numeric values and convert to float\n",
    "    numeric_data_array = np.array([\n",
    "        [float(cell) if is_number(cell) else np.nan for cell in row]\n",
    "        for row in data_array\n",
    "    ])\n",
    "\n",
    "    # Initialize a dictionary to store each column as an array and sort\n",
    "    columns_np_sorted = {\n",
    "        f'{prefix1}{prefix2}M{i}': np.sort(numeric_data_array[:, i][~np.isnan(numeric_data_array[:, i])])\n",
    "        for i in range(numeric_data_array.shape[1])\n",
    "    }\n",
    "\n",
    "    # Split sorted arrays into 10 equal parts and get the boundaries\n",
    "    quantiles = {key: np.quantile(value, np.linspace(0.1, 1.0, 10)) for key, value in columns_np_sorted.items()}\n",
    "\n",
    "    # Store the selected quantiles in an array\n",
    "    quantile_index = int(quantile_level * 10 - 1)\n",
    "    quantiles_selected = {key: value[quantile_index] for key, value in quantiles.items()}\n",
    "    #print(f\"Selected quantiles for {prefix}:\\n\", quantiles_selected)\n",
    "\n",
    "    # Create a copy of the dataset to modify the values\n",
    "    df_copy = df.copy()\n",
    "\n",
    "    # Get original column names\n",
    "    original_columns = df.columns[1:]  \n",
    "    column_mapping = {f'{prefix1}{prefix2}M{i}': col for i, col in enumerate(original_columns)}\n",
    "\n",
    "    # Go through each column of the dataset and set the values to low (0) or high (1)\n",
    "    for key, value in quantiles_selected.items():\n",
    "        if key in column_mapping:\n",
    "            col_name = column_mapping[key]\n",
    "            df_copy[col_name] = df_copy[col_name].apply(lambda x: convert_to_low_high(x, value))\n",
    "        else:\n",
    "            print(f\"Column {key} not found in DataFrame\")\n",
    "\n",
    "    # Define the output file name \n",
    "    output_file = f'predictions_{prefix1}B{prefix2}.csv'\n",
    "\n",
    "    # Save the modified dataset \n",
    "    df_copy.to_csv(output_file, index=False)"
   ]
  },
  {
   "cell_type": "code",
   "execution_count": 11,
   "metadata": {},
   "outputs": [],
   "source": [
    "# convert_values_to_low_high(df_2L, '2','L' )\n",
    "# convert_values_to_low_high(df_7L, '7', 'L')\n",
    "# convert_values_to_low_high(df_10L, '10','L')\n",
    "\n",
    "# convert_values_to_low_high(df_2R, '2', 'L')\n",
    "# convert_values_to_low_high(df_7R, '7','R' )\n",
    "# convert_values_to_low_high(df_10R, '10', 'R')"
   ]
  }
 ],
 "metadata": {
  "kernelspec": {
   "display_name": "Masterarbeit",
   "language": "python",
   "name": "r_env"
  },
  "language_info": {
   "codemirror_mode": {
    "name": "ipython",
    "version": 3
   },
   "file_extension": ".py",
   "mimetype": "text/x-python",
   "name": "python",
   "nbconvert_exporter": "python",
   "pygments_lexer": "ipython3",
   "version": "3.12.1"
  }
 },
 "nbformat": 4,
 "nbformat_minor": 2
}
